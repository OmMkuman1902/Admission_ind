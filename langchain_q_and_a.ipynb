{
 "cells": [
  {
   "cell_type": "markdown",
   "id": "f972f82d",
   "metadata": {},
   "source": [
    "### Basic working of Google Palm LLM in LangChain"
   ]
  },
  {
   "cell_type": "code",
   "execution_count": 2,
   "id": "a34aa70b",
   "metadata": {},
   "outputs": [],
   "source": [
    "\n",
    "\n",
    "# ✅ NEW IMPORT for Gemini\n",
    "import google.generativeai as genai\n",
    "\n",
    "# ✅ Other imports as you had\n",
    "from langchain.chains import RetrievalQA\n",
    "from langchain.document_loaders.csv_loader import CSVLoader\n",
    "from langchain.embeddings import HuggingFaceEmbeddings\n",
    "from langchain.vectorstores import FAISS\n",
    "from langchain.prompts import PromptTemplate\n",
    "import os"
   ]
  },
  {
   "cell_type": "code",
   "execution_count": 3,
   "id": "2b610123",
   "metadata": {},
   "outputs": [],
   "source": [
    "\n",
    "# ✅ Step 1: Setup Gemini API\n",
    "api_key = os.environ['GOOGLE_API_KEY']  # Replace with your API key\n",
    "genai.configure(api_key=api_key)"
   ]
  },
  {
   "cell_type": "code",
   "execution_count": 7,
   "id": "2b6c59dd",
   "metadata": {},
   "outputs": [
    {
     "name": "stdout",
     "output_type": "stream",
     "text": [
      "models/chat-bison-001  |  ['generateMessage', 'countMessageTokens']\n",
      "models/text-bison-001  |  ['generateText', 'countTextTokens', 'createTunedTextModel']\n",
      "models/embedding-gecko-001  |  ['embedText', 'countTextTokens']\n",
      "models/gemini-1.0-pro-vision-latest  |  ['generateContent', 'countTokens']\n",
      "models/gemini-pro-vision  |  ['generateContent', 'countTokens']\n",
      "models/gemini-1.5-pro-latest  |  ['generateContent', 'countTokens']\n",
      "models/gemini-1.5-pro-001  |  ['generateContent', 'countTokens', 'createCachedContent']\n",
      "models/gemini-1.5-pro-002  |  ['generateContent', 'countTokens', 'createCachedContent']\n",
      "models/gemini-1.5-pro  |  ['generateContent', 'countTokens']\n",
      "models/gemini-1.5-flash-latest  |  ['generateContent', 'countTokens']\n",
      "models/gemini-1.5-flash-001  |  ['generateContent', 'countTokens', 'createCachedContent']\n",
      "models/gemini-1.5-flash-001-tuning  |  ['generateContent', 'countTokens', 'createTunedModel']\n",
      "models/gemini-1.5-flash  |  ['generateContent', 'countTokens']\n",
      "models/gemini-1.5-flash-002  |  ['generateContent', 'countTokens', 'createCachedContent']\n",
      "models/gemini-1.5-flash-8b  |  ['createCachedContent', 'generateContent', 'countTokens']\n",
      "models/gemini-1.5-flash-8b-001  |  ['createCachedContent', 'generateContent', 'countTokens']\n",
      "models/gemini-1.5-flash-8b-latest  |  ['createCachedContent', 'generateContent', 'countTokens']\n",
      "models/gemini-1.5-flash-8b-exp-0827  |  ['generateContent', 'countTokens']\n",
      "models/gemini-1.5-flash-8b-exp-0924  |  ['generateContent', 'countTokens']\n",
      "models/gemini-2.5-pro-exp-03-25  |  ['generateContent', 'countTokens', 'createCachedContent']\n",
      "models/gemini-2.5-pro-preview-03-25  |  ['generateContent', 'countTokens', 'createCachedContent']\n",
      "models/gemini-2.5-flash-preview-04-17  |  ['generateContent', 'countTokens', 'createCachedContent']\n",
      "models/gemini-2.0-flash-exp  |  ['generateContent', 'countTokens', 'bidiGenerateContent']\n",
      "models/gemini-2.0-flash  |  ['generateContent', 'countTokens', 'createCachedContent']\n",
      "models/gemini-2.0-flash-001  |  ['generateContent', 'countTokens', 'createCachedContent']\n",
      "models/gemini-2.0-flash-exp-image-generation  |  ['generateContent', 'countTokens', 'bidiGenerateContent']\n",
      "models/gemini-2.0-flash-lite-001  |  ['generateContent', 'countTokens', 'createCachedContent']\n",
      "models/gemini-2.0-flash-lite  |  ['generateContent', 'countTokens', 'createCachedContent']\n",
      "models/gemini-2.0-flash-lite-preview-02-05  |  ['generateContent', 'countTokens', 'createCachedContent']\n",
      "models/gemini-2.0-flash-lite-preview  |  ['generateContent', 'countTokens', 'createCachedContent']\n",
      "models/gemini-2.0-pro-exp  |  ['generateContent', 'countTokens', 'createCachedContent']\n",
      "models/gemini-2.0-pro-exp-02-05  |  ['generateContent', 'countTokens', 'createCachedContent']\n",
      "models/gemini-exp-1206  |  ['generateContent', 'countTokens', 'createCachedContent']\n",
      "models/gemini-2.0-flash-thinking-exp-01-21  |  ['generateContent', 'countTokens', 'createCachedContent']\n",
      "models/gemini-2.0-flash-thinking-exp  |  ['generateContent', 'countTokens', 'createCachedContent']\n",
      "models/gemini-2.0-flash-thinking-exp-1219  |  ['generateContent', 'countTokens', 'createCachedContent']\n",
      "models/learnlm-1.5-pro-experimental  |  ['generateContent', 'countTokens']\n",
      "models/learnlm-2.0-flash-experimental  |  ['generateContent', 'countTokens']\n",
      "models/gemma-3-1b-it  |  ['generateContent', 'countTokens']\n",
      "models/gemma-3-4b-it  |  ['generateContent', 'countTokens']\n",
      "models/gemma-3-12b-it  |  ['generateContent', 'countTokens']\n",
      "models/gemma-3-27b-it  |  ['generateContent', 'countTokens']\n",
      "models/embedding-001  |  ['embedContent']\n",
      "models/text-embedding-004  |  ['embedContent']\n",
      "models/gemini-embedding-exp-03-07  |  ['embedContent', 'countTextTokens']\n",
      "models/gemini-embedding-exp  |  ['embedContent', 'countTextTokens']\n",
      "models/aqa  |  ['generateAnswer']\n",
      "models/imagen-3.0-generate-002  |  ['predict']\n",
      "models/gemini-2.0-flash-live-001  |  ['bidiGenerateContent', 'countTokens']\n"
     ]
    }
   ],
   "source": [
    "for m in genai.list_models():\n",
    "    print(m.name, \" | \", m.supported_generation_methods)\n"
   ]
  },
  {
   "cell_type": "code",
   "execution_count": 4,
   "id": "c235a80e",
   "metadata": {
    "scrolled": true
   },
   "outputs": [],
   "source": [
    "from langchain_core.language_models import LLM\n",
    "from typing import Optional, List\n",
    "from langchain_core.outputs import Generation, LLMResult\n",
    "import google.generativeai as genai\n",
    "from pydantic import PrivateAttr\n",
    "\n",
    "class GeminiLLM(LLM):\n",
    "    model_name: str = \"models/gemini-pro\"\n",
    "    temperature: float = 0.1\n",
    "    api_key: Optional[str] = None\n",
    "\n",
    "    # 👉 Private attribute for internal model\n",
    "    _model: any = PrivateAttr()\n",
    "\n",
    "    def __init__(self, model_name: Optional[str] = None, temperature: float = 0.1, api_key: Optional[str] = None):\n",
    "        super().__init__()\n",
    "        if api_key:\n",
    "            genai.configure(api_key=api_key)\n",
    "        self.model_name = model_name or self.model_name\n",
    "        self.temperature = temperature\n",
    "        self.api_key = api_key\n",
    "        self._model = genai.GenerativeModel(self.model_name)\n",
    "\n",
    "    @property\n",
    "    def _llm_type(self) -> str:\n",
    "        return \"gemini\"\n",
    "\n",
    "    def _call(self, prompt: str, stop: Optional[List[str]] = None) -> str:\n",
    "        response = self._model.generate_content(\n",
    "            prompt,\n",
    "            generation_config={\"temperature\": self.temperature}\n",
    "        )\n",
    "        return response.text\n",
    "\n",
    "    def _generate(self, prompts: List[str], stop: Optional[List[str]] = None) -> LLMResult:\n",
    "        generations = []\n",
    "        for prompt in prompts:\n",
    "            text = self._call(prompt, stop)\n",
    "            generations.append([Generation(text=text)])\n",
    "        return LLMResult(generations=generations)\n"
   ]
  },
  {
   "cell_type": "code",
   "execution_count": 5,
   "id": "629d83d4",
   "metadata": {},
   "outputs": [
    {
     "name": "stderr",
     "output_type": "stream",
     "text": [
      "C:\\Users\\omkum\\AppData\\Local\\Temp\\ipykernel_18596\\3830560266.py:9: LangChainDeprecationWarning: The method `BaseLLM.__call__` was deprecated in langchain-core 0.1.7 and will be removed in 1.0. Use :meth:`~invoke` instead.\n",
      "  poem = llm(\"Write a 4 line poem of my love for biryani\")\n"
     ]
    },
    {
     "name": "stdout",
     "output_type": "stream",
     "text": [
      "Oh, biryani, fragrant, spiced delight,\n",
      "Each layered grain a flavorful bite,\n",
      "From saffron hues to meat so tender,\n",
      "My love for you will never surrender. \n",
      "\n"
     ]
    }
   ],
   "source": [
    "# ✅ Step 3: Initialize Gemini LLM\n",
    "llm = GeminiLLM(\n",
    "    model_name=\"models/gemini-1.5-pro-latest\",\n",
    "    temperature=0.1,\n",
    "    \n",
    ")\n",
    "\n",
    "# ✅ Step 4: Quick test - Generate poem\n",
    "poem = llm(\"Write a 4 line poem of my love for biryani\")\n",
    "print(poem)"
   ]
  },
  {
   "cell_type": "code",
   "execution_count": 7,
   "id": "e3af92ff",
   "metadata": {},
   "outputs": [],
   "source": [
    "# ✅ Step 5: Load your data\n",
    "loader = CSVLoader(file_path='college_questions_answers.csv', source_column=\"Question\")\n",
    "data = loader.load()"
   ]
  },
  {
   "cell_type": "code",
   "execution_count": 8,
   "id": "89d7d1f3",
   "metadata": {},
   "outputs": [
    {
     "name": "stderr",
     "output_type": "stream",
     "text": [
      "C:\\Users\\omkum\\AppData\\Local\\Temp\\ipykernel_18596\\3787025548.py:3: LangChainDeprecationWarning: The class `HuggingFaceEmbeddings` was deprecated in LangChain 0.2.2 and will be removed in 1.0. An updated version of the class exists in the :class:`~langchain-huggingface package and should be used instead. To use it run `pip install -U :class:`~langchain-huggingface` and import as `from :class:`~langchain_huggingface import HuggingFaceEmbeddings``.\n",
      "  embedding_model = HuggingFaceEmbeddings(model_name=model_name)\n"
     ]
    }
   ],
   "source": [
    "# ✅ Step 6: Create Embedding model\n",
    "model_name = \"sentence-transformers/all-MiniLM-L6-v2\"\n",
    "embedding_model = HuggingFaceEmbeddings(model_name=model_name)"
   ]
  },
  {
   "cell_type": "code",
   "execution_count": 9,
   "id": "b6f7567c",
   "metadata": {},
   "outputs": [
    {
     "name": "stdout",
     "output_type": "stream",
     "text": [
      "[0.0812506228685379, -0.027420220896601677, 0.03651316836476326, 0.059323567897081375, -0.06641454994678497]\n"
     ]
    }
   ],
   "source": [
    "query = \"What courses or majors are offered?\"\n",
    "embedding = embedding_model.embed_query(query)\n",
    "print(embedding[:5])"
   ]
  },
  {
   "cell_type": "code",
   "execution_count": null,
   "id": "227816a9",
   "metadata": {},
   "outputs": [],
   "source": [
    "''''from langchain.chains import RetrievalQA\n",
    "\n",
    "\n",
    "from langchain.embeddings import GooglePalmEmbeddings\n",
    "from langchain.llms import GooglePalm'''"
   ]
  },
  {
   "cell_type": "code",
   "execution_count": null,
   "id": "1aa85af3",
   "metadata": {},
   "outputs": [],
   "source": []
  },
  {
   "cell_type": "markdown",
   "id": "765695b5",
   "metadata": {},
   "source": [
    "### Now let's load data from Codebasics FAQ csv file"
   ]
  },
  {
   "cell_type": "code",
   "execution_count": null,
   "id": "0c62e35c",
   "metadata": {},
   "outputs": [],
   "source": [
    "''''from langchain.document_loaders.csv_loader import CSVLoader\n",
    "\n",
    "loader = CSVLoader(file_path='College_Admission_Questions_and_Answers.csv', source_column=\"Prompt\")\n",
    "\n",
    "# Store the loaded data in the 'data' variable\n",
    "data = loader.load()'''"
   ]
  },
  {
   "cell_type": "markdown",
   "id": "4dd45e51",
   "metadata": {},
   "source": [
    "### Hugging Face Embeddings"
   ]
  },
  {
   "cell_type": "code",
   "execution_count": null,
   "id": "04a4de8c",
   "metadata": {},
   "outputs": [
    {
     "name": "stderr",
     "output_type": "stream",
     "text": [
      "C:\\Users\\omkum\\AppData\\Local\\Temp\\ipykernel_6832\\2071888529.py:4: LangChainDeprecationWarning: The class `HuggingFaceEmbeddings` was deprecated in LangChain 0.2.2 and will be removed in 1.0. An updated version of the class exists in the :class:`~langchain-huggingface package and should be used instead. To use it run `pip install -U :class:`~langchain-huggingface` and import as `from :class:`~langchain_huggingface import HuggingFaceEmbeddings``.\n",
      "  embedding_model = HuggingFaceEmbeddings(model_name=model_name)\n"
     ]
    },
    {
     "name": "stdout",
     "output_type": "stream",
     "text": [
      "[0.0812506228685379, -0.027420220896601677, 0.03651316836476326, 0.059323567897081375, -0.06641454994678497]\n"
     ]
    }
   ],
   "source": [
    "'''from langchain.embeddings import HuggingFaceEmbeddings\n",
    "\n",
    "model_name = \"sentence-transformers/all-MiniLM-L6-v2\"\n",
    "embedding_model = HuggingFaceEmbeddings(model_name=model_name)\n",
    "\n",
    "query = \"What courses or majors are offered?\"\n",
    "embedding = embedding_model.embed_query(query)\n",
    "print(embedding[:5])'''\n"
   ]
  },
  {
   "cell_type": "code",
   "execution_count": 10,
   "id": "0762eeac",
   "metadata": {},
   "outputs": [
    {
     "data": {
      "text/plain": [
       "384"
      ]
     },
     "execution_count": 10,
     "metadata": {},
     "output_type": "execute_result"
    }
   ],
   "source": [
    "len(embedding)"
   ]
  },
  {
   "cell_type": "code",
   "execution_count": 11,
   "id": "e6fab6ce",
   "metadata": {},
   "outputs": [
    {
     "data": {
      "text/plain": [
       "[0.0812506228685379,\n",
       " -0.027420220896601677,\n",
       " 0.03651316836476326,\n",
       " 0.059323567897081375,\n",
       " -0.06641454994678497]"
      ]
     },
     "execution_count": 11,
     "metadata": {},
     "output_type": "execute_result"
    }
   ],
   "source": [
    "embedding[:5]"
   ]
  },
  {
   "cell_type": "markdown",
   "id": "e571c0d2",
   "metadata": {},
   "source": [
    "As you can see above, embedding for a sentance \"What is your refund policy\" is a list of size 768. Looking at the numbers in this list, doesn't give any intuitive understanding of what it is but just assume that these numbers are capturing the meaning of \"What is your refund policy\". If you are curious to know about embeddings, go to youtube and search \"codebasics word embeddings\" and you will find bunch of videos with simple, intuitive explanations"
   ]
  },
  {
   "cell_type": "markdown",
   "id": "cc80a28a",
   "metadata": {},
   "source": [
    "### Vector store using FAISS"
   ]
  },
  {
   "cell_type": "code",
   "execution_count": 12,
   "id": "b3c706da",
   "metadata": {},
   "outputs": [],
   "source": [
    "\n",
    "\n",
    "from langchain.vectorstores import FAISS\n",
    "\n",
    "# Create a FAISS instance for vector database from 'data'\n",
    "vectordb = FAISS.from_documents(documents=data,\n",
    "                                 embedding=embedding_model)\n",
    "\n",
    "# Create a retriever for querying the vector database\n",
    "retriever = vectordb.as_retriever(score_threshold = 0.7)"
   ]
  },
  {
   "cell_type": "code",
   "execution_count": 13,
   "id": "cfd58f6f",
   "metadata": {},
   "outputs": [
    {
     "name": "stderr",
     "output_type": "stream",
     "text": [
      "C:\\Users\\omkum\\AppData\\Local\\Temp\\ipykernel_18596\\786521673.py:1: LangChainDeprecationWarning: The method `BaseRetriever.get_relevant_documents` was deprecated in langchain-core 0.1.46 and will be removed in 1.0. Use :meth:`~invoke` instead.\n",
      "  rdocs = retriever.get_relevant_documents(\"Are internships or practical experiences required?\")\n"
     ]
    },
    {
     "data": {
      "text/plain": [
       "[Document(id='7217c10a-9f26-486a-bad8-8048e72024a1', metadata={'source': 'Are internships mandatory? Does the college help in internships?', 'row': 25}, page_content='Question: Are internships mandatory? Does the college help in internships?\\nAnswer: Yes. Internships are strongly encouraged, and the college assists students in securing internship opportunities.'),\n",
       " Document(id='c4bc5b24-4363-4934-80f2-34c4c9e4a147', metadata={'source': 'Are there opportunities for research or internships?', 'row': 5}, page_content='Question: Are there opportunities for research or internships?\\nAnswer: Yes. Students are encouraged to participate in research activities and internships through dedicated support systems.'),\n",
       " Document(id='83c68357-0378-42ac-80e5-fa08e96a4810', metadata={'source': 'Is there a dedicated placement cell?', 'row': 26}, page_content='Question: Is there a dedicated placement cell?\\nAnswer: Yes. A specialized placement cell provides training, career counseling, and placement assistance.'),\n",
       " Document(id='d52a6d63-6e51-45e5-b343-852bd732ee1a', metadata={'source': 'What courses or programs are offered?', 'row': 0}, page_content='Question: What courses or programs are offered?\\nAnswer: Yes. A diverse range of undergraduate and postgraduate programs is offered across fields like Computer Science, Commerce, Management, and IT.')]"
      ]
     },
     "execution_count": 13,
     "metadata": {},
     "output_type": "execute_result"
    }
   ],
   "source": [
    "rdocs = retriever.get_relevant_documents(\"Are internships or practical experiences required?\")\n",
    "rdocs"
   ]
  },
  {
   "cell_type": "markdown",
   "id": "4cf6b257",
   "metadata": {},
   "source": [
    "As you can see above, the retriever that was created using FAISS and hugging face embedding is now capable of pulling relavant documents from our original CSV file knowledge store. This is very powerful and it will help us further in our project"
   ]
  },
  {
   "cell_type": "markdown",
   "id": "45bee857",
   "metadata": {},
   "source": [
    "##### Embeddings can be created using GooglePalm too. Also for vector database you can use chromadb as well as shown below. During our experimentation, we found hugging face embeddings and FAISS to be more appropriate for our use case"
   ]
  },
  {
   "cell_type": "code",
   "execution_count": 14,
   "id": "a93d079d",
   "metadata": {},
   "outputs": [],
   "source": [
    "# google_palm_embeddings = GooglePalmEmbeddings(google_api_key=api_key)\n",
    "\n",
    "# from langchain.vectorstores import Chroma\n",
    "# vectordb = Chroma.from_documents(data,\n",
    "#                            embedding=google_palm_embeddings,\n",
    "#                            persist_directory='./chromadb')\n",
    "# vectordb.persist()"
   ]
  },
  {
   "cell_type": "markdown",
   "id": "02f3d927",
   "metadata": {},
   "source": [
    "### Create RetrievalQA chain along with prompt template 🚀"
   ]
  },
  {
   "cell_type": "code",
   "execution_count": 14,
   "id": "2d4842c8",
   "metadata": {},
   "outputs": [],
   "source": [
    "# ✅ Step 11: Prompt Template\n",
    "prompt_template = \"\"\"Given the following context and a question, generate an answer based on this context only.\n",
    "In the answer try to provide as much text as possible from \"Answer\" section in the source document context without making much changes.\n",
    "If the answer is not found in the context, kindly state \"I don't know.\" Don't try to make up an answer.\n",
    "\n",
    "CONTEXT: {context}\n",
    "\n",
    "QUESTION: {question}\"\"\"\n",
    "\n",
    "PROMPT = PromptTemplate(\n",
    "    template=prompt_template, input_variables=[\"context\", \"question\"]\n",
    ")\n",
    "chain_type_kwargs = {\"prompt\": PROMPT}"
   ]
  },
  {
   "cell_type": "code",
   "execution_count": 15,
   "id": "d215505e",
   "metadata": {},
   "outputs": [],
   "source": [
    "# ✅ Step 12: Create RetrievalQA Chain\n",
    "chain = RetrievalQA.from_chain_type(\n",
    "    llm=llm,\n",
    "    chain_type=\"stuff\",\n",
    "    retriever=retriever,\n",
    "    input_key=\"query\",\n",
    "    return_source_documents=True,\n",
    "    chain_type_kwargs=chain_type_kwargs\n",
    ")"
   ]
  },
  {
   "cell_type": "markdown",
   "id": "152a4cf8",
   "metadata": {},
   "source": [
    "### We are all set 👍🏼 Let's ask some questions now"
   ]
  },
  {
   "cell_type": "code",
   "execution_count": 16,
   "id": "90166e8d",
   "metadata": {},
   "outputs": [
    {
     "name": "stderr",
     "output_type": "stream",
     "text": [
      "C:\\Users\\omkum\\AppData\\Local\\Temp\\ipykernel_18596\\2683687648.py:1: LangChainDeprecationWarning: The method `Chain.__call__` was deprecated in langchain 0.1.0 and will be removed in 1.0. Use :meth:`~invoke` instead.\n",
      "  chain('How is the curriculum?')\n"
     ]
    },
    {
     "data": {
      "text/plain": [
       "{'query': 'How is the curriculum?',\n",
       " 'result': 'Yes. The curriculum is designed to be modern and industry-aligned, covering the latest trends and technologies.\\n',\n",
       " 'source_documents': [Document(id='65d4afaa-4c2c-41d9-8234-695e89957e54', metadata={'source': 'Is the curriculum updated and industry-relevant?', 'row': 4}, page_content='Question: Is the curriculum updated and industry-relevant?\\nAnswer: Yes. The curriculum is designed to be modern and industry-aligned, covering the latest trends and technologies.'),\n",
       "  Document(id='936e398d-51ee-42d3-a5e7-1143b09b279f', metadata={'source': 'How is the faculty? Are they experienced and qualified?', 'row': 2}, page_content='Question: How is the faculty? Are they experienced and qualified?\\nAnswer: Yes. The faculty is highly qualified and experienced, focused on providing quality education and mentorship.'),\n",
       "  Document(id='7dbd5f57-7315-4c8a-852d-43a8570b848b', metadata={'source': 'How are the library, labs, and study resources?', 'row': 20}, page_content='Question: How are the library, labs, and study resources?\\nAnswer: Yes. The institution provides a well-equipped library, modern labs, and comprehensive academic resources.'),\n",
       "  Document(id='c41b921c-19f2-42b3-8266-f4bba90d39ce', metadata={'source': 'How flexible are the course choices (electives, minors)?', 'row': 6}, page_content='Question: How flexible are the course choices (electives, minors)?\\nAnswer: Yes. Multiple electives and value-added courses are available, offering students flexibility in their learning paths.')]}"
      ]
     },
     "execution_count": 16,
     "metadata": {},
     "output_type": "execute_result"
    }
   ],
   "source": [
    "chain('How is the curriculum?')"
   ]
  },
  {
   "cell_type": "markdown",
   "id": "b3a4e3e4",
   "metadata": {},
   "source": [
    "**As you can see above, the answer of question comes from two different FAQs within our csv file and it is able to pull those questions and merge them nicely**"
   ]
  },
  {
   "cell_type": "code",
   "execution_count": 18,
   "id": "82dce73e",
   "metadata": {},
   "outputs": [
    {
     "data": {
      "text/plain": [
       "{'query': 'Are there scholarships or financial aid options?',\n",
       " 'result': 'Yes. Scholarships are available for academically outstanding students and those from economically weaker backgrounds.\\n',\n",
       " 'source_documents': [Document(id='9ac1ac44-dd4c-427d-8bf0-1a6dd9018829', metadata={'source': 'Are there scholarships or financial aid options?', 'row': 16}, page_content='Question: Are there scholarships or financial aid options?\\nAnswer: Yes. Scholarships are available for academically outstanding students and those from economically weaker backgrounds.'),\n",
       "  Document(id='06872282-d34a-4ab7-9feb-a80d6dcc1374', metadata={'source': 'What are the eligibility criteria for scholarships?', 'row': 17}, page_content='Question: What are the eligibility criteria for scholarships?\\nAnswer: Yes. Scholarships are typically awarded based on academic performance and financial need.'),\n",
       "  Document(id='c4bc5b24-4363-4934-80f2-34c4c9e4a147', metadata={'source': 'Are there opportunities for research or internships?', 'row': 5}, page_content='Question: Are there opportunities for research or internships?\\nAnswer: Yes. Students are encouraged to participate in research activities and internships through dedicated support systems.'),\n",
       "  Document(id='d52a6d63-6e51-45e5-b343-852bd732ee1a', metadata={'source': 'What courses or programs are offered?', 'row': 0}, page_content='Question: What courses or programs are offered?\\nAnswer: Yes. A diverse range of undergraduate and postgraduate programs is offered across fields like Computer Science, Commerce, Management, and IT.')]}"
      ]
     },
     "execution_count": 18,
     "metadata": {},
     "output_type": "execute_result"
    }
   ],
   "source": [
    "chain(\"Are there scholarships or financial aid options?\")"
   ]
  },
  {
   "cell_type": "code",
   "execution_count": 19,
   "id": "48970302",
   "metadata": {
    "scrolled": false
   },
   "outputs": [
    {
     "data": {
      "text/plain": [
       "{'query': 'How good are the science/lab facilities and Are computer labs available 24/7?',\n",
       " 'result': \"Yes. The institution provides a well-equipped library, modern labs, and comprehensive academic resources.  I don't know if computer labs are available 24/7.\\n\",\n",
       " 'source_documents': [Document(id='7dbd5f57-7315-4c8a-852d-43a8570b848b', metadata={'source': 'How are the library, labs, and study resources?', 'row': 20}, page_content='Question: How are the library, labs, and study resources?\\nAnswer: Yes. The institution provides a well-equipped library, modern labs, and comprehensive academic resources.'),\n",
       "  Document(id='7ceb1c96-e2cb-42cb-87a1-48cc8ca022de', metadata={'source': 'Is the campus Wi-Fi-enabled and tech-friendly?', 'row': 19}, page_content='Question: Is the campus Wi-Fi-enabled and tech-friendly?\\nAnswer: Yes. The campus is Wi-Fi-enabled and supports a tech-friendly learning environment.'),\n",
       "  Document(id='df21620a-f279-4d9d-88d8-56cb2724cbe8', metadata={'source': 'What are the hostel/accommodation facilities like?', 'row': 18}, page_content='Question: What are the hostel/accommodation facilities like?\\nAnswer: Yes. Hostel facilities are provided with options for air-conditioned and non-air-conditioned rooms, along with amenities like 24/7 security and mess services.'),\n",
       "  Document(id='23f3afd5-9a3c-4117-9fb9-081a8c213e08', metadata={'source': 'What companies come for placements?', 'row': 23}, page_content='Question: What companies come for placements?\\nAnswer: Yes. Many companies from sectors like IT, Finance, Marketing, and Consultancy regularly visit for campus placements.')]}"
      ]
     },
     "execution_count": 19,
     "metadata": {},
     "output_type": "execute_result"
    }
   ],
   "source": [
    "chain(\"How good are the science/lab facilities and Are computer labs available 24/7?\")"
   ]
  },
  {
   "cell_type": "code",
   "execution_count": 20,
   "id": "c17dc6c3",
   "metadata": {},
   "outputs": [
    {
     "data": {
      "text/plain": [
       "{'query': 'What courses or programs are offered?',\n",
       " 'result': 'Yes. A diverse range of undergraduate and postgraduate programs is offered across fields like Computer Science, Commerce, Management, and IT.\\n',\n",
       " 'source_documents': [Document(id='d52a6d63-6e51-45e5-b343-852bd732ee1a', metadata={'source': 'What courses or programs are offered?', 'row': 0}, page_content='Question: What courses or programs are offered?\\nAnswer: Yes. A diverse range of undergraduate and postgraduate programs is offered across fields like Computer Science, Commerce, Management, and IT.'),\n",
       "  Document(id='c41b921c-19f2-42b3-8266-f4bba90d39ce', metadata={'source': 'How flexible are the course choices (electives, minors)?', 'row': 6}, page_content='Question: How flexible are the course choices (electives, minors)?\\nAnswer: Yes. Multiple electives and value-added courses are available, offering students flexibility in their learning paths.'),\n",
       "  Document(id='c8cc50cd-58dc-4a96-8edb-0d4f7d93e005', metadata={'source': 'Are there entrance exams? If yes, which ones?', 'row': 12}, page_content='Question: Are there entrance exams? If yes, which ones?\\nAnswer: Yes. Some programs require entrance examinations as part of the admission process.'),\n",
       "  Document(id='9ac1ac44-dd4c-427d-8bf0-1a6dd9018829', metadata={'source': 'Are there scholarships or financial aid options?', 'row': 16}, page_content='Question: Are there scholarships or financial aid options?\\nAnswer: Yes. Scholarships are available for academically outstanding students and those from economically weaker backgrounds.')]}"
      ]
     },
     "execution_count": 20,
     "metadata": {},
     "output_type": "execute_result"
    }
   ],
   "source": [
    "chain(\"What courses or programs are offered?\")"
   ]
  },
  {
   "cell_type": "code",
   "execution_count": 20,
   "id": "0c35c2c3",
   "metadata": {},
   "outputs": [
    {
     "data": {
      "text/plain": [
       "{'query': 'should I learn power bi or tableau?',\n",
       " 'result': 'This is a contextual question. If you are talking about a pure visualization tool Tableau is slightly better. Data connectors, modeling and transformation features are available in both. However, factually speaking Power BI is cheaper and offers tighter integration with the Microsoft environment. Since most companies use excel & Microsoft tools they start with Power BI or move towards Power BI for seamless integration with other Microsoft tools (called as Power platform). This makes the job openings grow at a much higher rate on Power BI and Power Platform. Also, Power BI has been leading the Gartner’s magic quadrant in BI for the last few years as the industry leader.',\n",
       " 'source_documents': [Document(page_content='prompt: Power BI or Tableau which one is better?\\nresponse: This is a contextual question. If you are talking about a pure visualization tool Tableau is slightly better. Data connectors, modeling and transformation features are available in both. However, factually speaking Power BI is cheaper and offers tighter integration with the Microsoft environment. Since most companies use excel & Microsoft tools they start with Power BI or move towards Power BI for seamless integration with other Microsoft tools (called as Power platform). This makes the job openings grow at a much higher rate on Power BI and Power Platform. Also, Power BI has been leading the Gartner’s magic quadrant in BI for the last few years as the industry leader.', metadata={'source': '\\nPower BI or Tableau which one is better?', 'row': 29}),\n",
       "  Document(page_content='prompt: What is different in this course from thousands of other Power BI courses available online?\\nresponse: Most of the courses available on the internet teach you how to build x & y without any business context and do not prepare you for the real business world. This course is rather an experience in which you will learn how to use Power BI & other non-technical skills to solve a real-life business problem using analytics. Here you focus on solving a business problem and in that process learn how Power BI can be used as a tool. This is how you will do the work when you start working as a data analyst/ Business analyst/ Power BI developer in the industry. This course will prepare you for not just fetching the job but, shine in it & grow further.', metadata={'source': 'What is different in this course from thousands of other Power BI courses available online?', 'row': 36}),\n",
       "  Document(page_content='prompt: I already know basic Power BI, what benefit do I get by taking this course?\\nresponse: This course is taught through a true end-to-end project in a Consumer goods company involving all the steps mimicking the real business environment, so you will learn how to execute end-to-end projects Power BI projects successfully along with the business fundamentals. You will learn a lot of extra things such as Project management tools, effective communication techniques & organizational nuances.', metadata={'source': 'I already know basic Power BI, what benefit do I get by taking this course?', 'row': 37}),\n",
       "  Document(page_content='prompt: Is this bootcamp enough for me in Microsoft Power BI and\\n Excel certifications?\\nresponse: Yes, this bootcamp will certainly help because we cover the majority of the skills measured in these exams. However, please be informed that this course focuses on Job ready aspects and not on all aspects required to clear the exams. In addition to this course, you might need to visit the official learning material designed by Microsoft which is available for free on their website.', metadata={'source': 'Is this bootcamp enough for me in Microsoft Power BI and\\n Excel certifications?', 'row': 12})]}"
      ]
     },
     "execution_count": 20,
     "metadata": {},
     "output_type": "execute_result"
    }
   ],
   "source": [
    "chain(\"should I learn power bi or tableau?\")"
   ]
  },
  {
   "cell_type": "code",
   "execution_count": 21,
   "id": "a054c5ff",
   "metadata": {},
   "outputs": [
    {
     "data": {
      "text/plain": [
       "{'query': \"I've a MAC computer. Can I use powerbi on it?\",\n",
       " 'result': 'response: Hi\\n\\nPower BI desktop works only in Windows OS. Please look into the system requirements section on this page. However, you can use a virtual machine to install and work with Power BI in other Operating systems.',\n",
       " 'source_documents': [Document(page_content='prompt: How can I use PowerBI on my Mac system?\\nresponse: Hi\\n\\nYou can use VirtualBox to create a virtual machine and install Windows on it. This will allow you to run Power BI and Excel on your Mac.\\n\\nIf you\\'re not familiar with setting up a virtual machine, there are many resources available on YouTube that can guide you through the process. Simply search for \"installing virtual machines\" and you\\'ll find plenty of helpful videos.\\n\\nBest of luck with your studies!', metadata={'source': 'How can I use PowerBI on my Mac system?', 'row': 44}),\n",
       "  Document(page_content='prompt: Does Power BI work in Mac OS/Ubuntu?\\nresponse: Power BI desktop works only in Windows OS. Please look into the system requirements section on this page. However, you can use a virtual machine to install and work with Power BI in other Operating systems.', metadata={'source': 'Does Power BI work in Mac OS/Ubuntu?', 'row': 31}),\n",
       "  Document(page_content='prompt: i am unable to import data from mysql in power bi ,connector issue is coming continuously i have done all steps according to connector pdf still its not resolving please guide\\nresponse: Please refer to this thread: https://discord.com/channels/1090613684163850280/1107992760105054238/1107993007606730802', metadata={'source': 'i am unable to import data from mysql in power bi ,connector issue is coming continuously i have done all steps according to connector pdf still its not resolving please guide', 'row': 54}),\n",
       "  Document(page_content='prompt: Is this bootcamp enough for me in Microsoft Power BI and\\n Excel certifications?\\nresponse: Yes, this bootcamp will certainly help because we cover the majority of the skills measured in these exams. However, please be informed that this course focuses on Job ready aspects and not on all aspects required to clear the exams. In addition to this course, you might need to visit the official learning material designed by Microsoft which is available for free on their website.', metadata={'source': 'Is this bootcamp enough for me in Microsoft Power BI and\\n Excel certifications?', 'row': 12})]}"
      ]
     },
     "execution_count": 21,
     "metadata": {},
     "output_type": "execute_result"
    }
   ],
   "source": [
    "chain(\"I've a MAC computer. Can I use powerbi on it?\")"
   ]
  },
  {
   "cell_type": "code",
   "execution_count": null,
   "id": "89fa5d10",
   "metadata": {},
   "outputs": [],
   "source": [
    "chain(\"I don't see power pivot. how can I enable it?\")"
   ]
  },
  {
   "cell_type": "code",
   "execution_count": null,
   "id": "c6539e58",
   "metadata": {},
   "outputs": [],
   "source": [
    "chain(\"What is the price of your machine learning course?\")"
   ]
  }
 ],
 "metadata": {
  "kernelspec": {
   "display_name": "myprojenv",
   "language": "python",
   "name": "python3"
  },
  "language_info": {
   "codemirror_mode": {
    "name": "ipython",
    "version": 3
   },
   "file_extension": ".py",
   "mimetype": "text/x-python",
   "name": "python",
   "nbconvert_exporter": "python",
   "pygments_lexer": "ipython3",
   "version": "3.13.3"
  }
 },
 "nbformat": 4,
 "nbformat_minor": 5
}
